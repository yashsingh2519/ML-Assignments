{
 "cells": [
  {
   "cell_type": "markdown",
   "metadata": {},
   "source": [
    "# Assignment 2\n",
    "   by Yash Shekhawat (Branch - AI&DS)"
   ]
  },
  {
   "cell_type": "markdown",
   "metadata": {},
   "source": [
    "1. Write a function pascals_triangle(rows) that prints the first rows of\n",
    "   Pascal’s Triangle using nested for loops.\n",
    "   pascals_triangle(5)"
   ]
  },
  {
   "cell_type": "code",
   "execution_count": 2,
   "metadata": {},
   "outputs": [
    {
     "name": "stdout",
     "output_type": "stream",
     "text": [
      "1\n",
      "1 1\n",
      "1 2 1\n",
      "1 3 3 1\n",
      "1 4 6 4 1\n"
     ]
    }
   ],
   "source": [
    "def pascals_triangle(rows):\n",
    "    for i in range(rows):\n",
    "        row = [1]  \n",
    "        if i > 0:\n",
    "            for j in range(1, i):\n",
    "                row.append(prev_row[j - 1] + prev_row[j])\n",
    "            row.append(1)\n",
    "        print(\" \".join(map(str, row)))\n",
    "        prev_row = row\n",
    "        \n",
    "pascals_triangle(5)\n"
   ]
  },
  {
   "cell_type": "markdown",
   "metadata": {},
   "source": [
    "2.  Explain how the `continue` statement works in a loop. What are some\n",
    "    scenarios where using `continue` is more beneficial than restructuring\n",
    "    the loop?\n",
    "    - Coding Challenge: Write a Python program that iterates through a list\n",
    "    of numbers and prints only those numbers that are divisible by 3, using\n",
    "    the `continue` statement."
   ]
  },
  {
   "cell_type": "markdown",
   "metadata": {},
   "source": [
    "ANS-\n",
    "-The continue statement skips the remaining code inside the loop for the current iteration and moves to the next iteration.\n",
    "\n",
    "Scenarios where continue is useful:\n",
    "\n",
    "Skipping unwanted values in an iteration without breaking the loop.\n",
    "Filtering out elements without using additional if-else conditions.\n",
    "Improving readability when dealing with multiple conditions."
   ]
  },
  {
   "cell_type": "code",
   "execution_count": 3,
   "metadata": {},
   "outputs": [
    {
     "name": "stdout",
     "output_type": "stream",
     "text": [
      "3\n",
      "6\n",
      "9\n"
     ]
    }
   ],
   "source": [
    "numbers = [1, 2, 3, 4, 5, 6, 7, 8, 9, 10]\n",
    "for num in numbers:\n",
    "    if num % 3 != 0:\n",
    "        continue\n",
    "    print(num)\n"
   ]
  },
  {
   "cell_type": "markdown",
   "metadata": {},
   "source": [
    "3. Use list comprehension to generate all Pythagorean triplets (a, b, c)\n",
    "    where a² + b² = c² and a, b, c ≤ 50."
   ]
  },
  {
   "cell_type": "code",
   "execution_count": 4,
   "metadata": {},
   "outputs": [
    {
     "name": "stdout",
     "output_type": "stream",
     "text": [
      "[(3, 4, 5), (5, 12, 13), (6, 8, 10), (7, 24, 25), (8, 15, 17), (9, 12, 15), (9, 40, 41), (10, 24, 26), (12, 16, 20), (12, 35, 37), (14, 48, 50), (15, 20, 25), (15, 36, 39), (16, 30, 34), (18, 24, 30), (20, 21, 29), (21, 28, 35), (24, 32, 40), (27, 36, 45), (30, 40, 50)]\n"
     ]
    }
   ],
   "source": [
    "pythagorean_triplets = [(a, b, c) for a in range(1, 51) for b in range(a, 51) for c in range(b, 51) if a**2 + b**2 == c**2]\n",
    "print(pythagorean_triplets)\n"
   ]
  },
  {
   "cell_type": "markdown",
   "metadata": {},
   "source": [
    "4. Write a function max_consecutive_sum(nums, k) that finds the\n",
    "    maximum sum of k consecutive elements in a list.\n"
   ]
  },
  {
   "cell_type": "code",
   "execution_count": 5,
   "metadata": {},
   "outputs": [
    {
     "name": "stdout",
     "output_type": "stream",
     "text": [
      "21\n"
     ]
    }
   ],
   "source": [
    "def max_consecutive_sum(nums, k):\n",
    "    if len(nums) < k:\n",
    "        return None\n",
    "    return max(sum(nums[i:i + k]) for i in range(len(nums) - k + 1))\n",
    "\n",
    "\n",
    "print(max_consecutive_sum([1, 2, 3, 4, 5, 6, 7, 8], 3))\n"
   ]
  },
  {
   "cell_type": "markdown",
   "metadata": {},
   "source": [
    "5. Write a function that takes a list as an argument and modifies it by\n",
    "appending a new item. Demonstrate how changes to the list inside the\n",
    "function affect the list outside the function."
   ]
  },
  {
   "cell_type": "code",
   "execution_count": 6,
   "metadata": {},
   "outputs": [
    {
     "name": "stdout",
     "output_type": "stream",
     "text": [
      "['a', 'b', 'c', 'new item']\n"
     ]
    }
   ],
   "source": [
    "def modify_list(lst):\n",
    "    lst.append(\"new item\")\n",
    "\n",
    "\n",
    "my_list = [\"a\", \"b\", \"c\"]\n",
    "modify_list(my_list)\n",
    "print(my_list)\n"
   ]
  },
  {
   "cell_type": "markdown",
   "metadata": {},
   "source": [
    "6. Take a number as input and print the Fibonacci sequence up to that\n",
    "many terms using User-defined functions"
   ]
  },
  {
   "cell_type": "code",
   "execution_count": 7,
   "metadata": {},
   "outputs": [
    {
     "name": "stdout",
     "output_type": "stream",
     "text": [
      "[0, 1, 1, 2, 3, 5, 8, 13, 21, 34, 55, 89, 144, 233, 377, 610, 987, 1597, 2584, 4181, 6765, 10946, 17711, 28657, 46368, 75025, 121393, 196418, 317811, 514229, 832040, 1346269, 2178309, 3524578, 5702887, 9227465, 14930352, 24157817, 39088169, 63245986, 102334155, 165580141, 267914296, 433494437]\n"
     ]
    }
   ],
   "source": [
    "def fibonacci(n):\n",
    "    fib_seq = [0, 1]\n",
    "    for _ in range(2, n):\n",
    "        fib_seq.append(fib_seq[-1] + fib_seq[-2])\n",
    "    return fib_seq[:n]\n",
    "\n",
    "# Example usage\n",
    "num_terms = int(input(\"Enter the number of Fibonacci terms: \"))\n",
    "print(fibonacci(num_terms))\n"
   ]
  }
 ],
 "metadata": {
  "kernelspec": {
   "display_name": "venv",
   "language": "python",
   "name": "python3"
  },
  "language_info": {
   "codemirror_mode": {
    "name": "ipython",
    "version": 3
   },
   "file_extension": ".py",
   "mimetype": "text/x-python",
   "name": "python",
   "nbconvert_exporter": "python",
   "pygments_lexer": "ipython3",
   "version": "3.13.0"
  }
 },
 "nbformat": 4,
 "nbformat_minor": 2
}
